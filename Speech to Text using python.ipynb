{
 "cells": [
  {
   "cell_type": "markdown",
   "metadata": {},
   "source": [
    "# Speech Recognition"
   ]
  },
  {
   "cell_type": "markdown",
   "metadata": {},
   "source": [
    "#### Speech recognition is the process of converting spoken words to text. Python supports many speech recognition engines and APIs. We will use Google Speech Recognition Engine."
   ]
  },
  {
   "cell_type": "markdown",
   "metadata": {},
   "source": [
    "# Installation\n",
    "   ###  We need to install  “SpeechRecognition” library and Pyaudio library \n",
    "\n",
    "   ### 1. Using command prompt\n",
    "\n",
    "        pip install SpeechRecognition\n",
    "        pip install PyAudio\n",
    "\n",
    "   ### 2. Using Anaconda\n",
    "\n",
    "        conda install -c conda-forge speechrecognition\n",
    "        \n",
    "        conda install -c anaconda pyaudio\n",
    "\n"
   ]
  },
  {
   "cell_type": "code",
   "execution_count": 14,
   "metadata": {},
   "outputs": [
    {
     "name": "stdout",
     "output_type": "stream",
     "text": [
      "Now Speak :\n",
      "Recognising....\n",
      "I didn't hear anything :( \n"
     ]
    }
   ],
   "source": [
    "import speech_recognition as sr  \n",
    "\n",
    "# get audio from the device  microphone                                                                       \n",
    "recogniser = sr.Recognizer()                                                                                   \n",
    "with sr.Microphone() as source:                                                                       \n",
    "    print(\"Now Speak :\")                                                                                   \n",
    "    audio = recogniser.listen(source,timeout=3)   \n",
    "\n",
    "try:\n",
    "    print(\"Recognising....\")\n",
    "    print(\"You said  \" + recogniser.recognize_google(audio))\n",
    "except sr.UnknownValueError:\n",
    "    print(\"I didn't hear anything :( \")\n",
    "except sr.RequestError as ex:\n",
    "    print(\"Not able to get the result; {0}\".format(ex))"
   ]
  },
  {
   "cell_type": "code",
   "execution_count": null,
   "metadata": {},
   "outputs": [],
   "source": []
  }
 ],
 "metadata": {
  "kernelspec": {
   "display_name": "Python 3",
   "language": "python",
   "name": "python3"
  },
  "language_info": {
   "codemirror_mode": {
    "name": "ipython",
    "version": 3
   },
   "file_extension": ".py",
   "mimetype": "text/x-python",
   "name": "python",
   "nbconvert_exporter": "python",
   "pygments_lexer": "ipython3",
   "version": "3.7.3"
  }
 },
 "nbformat": 4,
 "nbformat_minor": 2
}
